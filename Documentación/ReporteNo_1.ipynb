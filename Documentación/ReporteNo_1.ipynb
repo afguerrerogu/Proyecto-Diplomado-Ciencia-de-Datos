{
 "cells": [
  {
   "cell_type": "markdown",
   "id": "d6cbf9a2-c4e6-4689-9ea5-ec383c2a4905",
   "metadata": {},
   "source": [
    "# PROYECTO: *Análisis de la Efectividad de Programas de Educación Continua y Permanente (ECP) en la Facultad de Ciencias de la Universidad Nacional de Colombia*\n"
   ]
  },
  {
   "cell_type": "markdown",
   "id": "072bc455-7a43-4496-a154-52d21ad7718b",
   "metadata": {},
   "source": [
    "## REPORTE No. 1 PROPUESTA DEL PROYECTO:"
   ]
  },
  {
   "cell_type": "markdown",
   "id": "1b734dbe-d0ea-486c-afc6-e030838fbd65",
   "metadata": {},
   "source": [
    "Este proyecto tiene como objetivo principal analizar la efectividad qué tienen los cursos de Educación Continua y Permanente ofrecidos por la Facultad de Ciencias de la Universidad Nacional de Colombia, en término de número de inscritos efectivos de los programas. Para lograrlo, se emplearán datos disponibles relacionados con preinscripciones, inscripciones y encuestas de satisfacción. El propósito es evaluar en profundidad los grupos poblacionales que muestran interés en los cursos impartidos y determinar qué características influyen en mayor medida en la decisión de los estudiantes de inscribirse en un curso en particular.\n",
    "\n",
    "Además de examinar las variables inherentes a los estudiantes, también se explorarán posibles factores externos que podrían influir en esta elección, como las pautas y los períodos en los que los cursos son ofrecidos. Con esta información, se busca desarrollar un modelo que permita una planificación más efectiva de los cursos y una optimización en la selección de los grupos poblacionales a los que van dirigidos.\n"
   ]
  },
  {
   "cell_type": "markdown",
   "id": "beb8cd73-495b-4b16-b918-4b428696c99f",
   "metadata": {},
   "source": [
    "## ASESOR PRINCIPAL: Prof. Camilo Torres"
   ]
  },
  {
   "cell_type": "markdown",
   "id": "d7ac11dd-5826-4476-84eb-21f472248736",
   "metadata": {
    "tags": []
   },
   "source": [
    "## AUTORES: ##"
   ]
  },
  {
   "cell_type": "markdown",
   "id": "0cbd781c-3c44-4398-9fb7-f81ff0685072",
   "metadata": {
    "tags": []
   },
   "source": [
    "Kelly Johana Castillo Beltran\n",
    "\n",
    "Andres Felipe Guerrero Guio\n",
    "\n",
    "Maryi Martinez Paredes"
   ]
  },
  {
   "cell_type": "markdown",
   "id": "cc42bc62-bcde-4386-8cba-11643c94f829",
   "metadata": {},
   "source": [
    "## INTRODUCCIÓN ##"
   ]
  },
  {
   "cell_type": "markdown",
   "id": "58e6f970-cc5a-4a39-b337-7fabd1709dc0",
   "metadata": {},
   "source": [
    "La Facultad de Ciencias ofrece a la comunidad en general proyectos de Extensión diseñados para atender las necesidades académicas de sectores específicos, las cuales no solo responden a requerimientos puntuales, fruto de una cuidadosa planificación tanto a nivel académico como administrativo. Las mismas requieren del compromiso y la inversión de recursos por parte de diversos actores dentro de la Universidad. \n",
    "\n",
    "A pesar de su importancia, la evaluación del éxito de estos cursos y diplomados (en términos de apertura) ha sido una cuestión poco estudiada en la Facultad. Esta falta de análisis representa un desafío significativo, ya que la cancelación de un proyecto no solo implica la pérdida de recursos económicos, como otros factores que pueden ser intangibles, como la inversión de tiempo que requiere la planificación de la actividad, así como la oportunidad de generar un impacto positivo en la comunidad. \n",
    "\n",
    "Por ello, con el ejercicio desarrollado a lo largo de este trabajo se buscará establecer los factores determinantes que influyen para que una actividad sea exitosa desde su promoción hasta su apertura administrativa y académica.\n"
   ]
  },
  {
   "cell_type": "markdown",
   "id": "b31d3dcb-b377-4521-87ff-851e5a25ad61",
   "metadata": {},
   "source": [
    "## DESCRIPCIÓN DEL PROBLEMA ##"
   ]
  },
  {
   "cell_type": "markdown",
   "id": "4cba66c7-0028-497f-92ba-b5152b1c82fc",
   "metadata": {},
   "source": [
    "Las actividades de educación continua y permanente que se plantean y aprueban ante el Consejo de Facultad, determina un punto de equilibrio con el fin de poder desarrollar o no dicha actividad; por lo tanto el alto número de actividades derogadas por no cumplir este punto de equilibrio, conlleva además de una pérdida de tiempo y de trámites administrativos, pérdidas económicas y de credibilidad."
   ]
  },
  {
   "cell_type": "markdown",
   "id": "2d095efd-8291-40c0-86e9-5a229841d3f3",
   "metadata": {},
   "source": [
    "## FUENTES DE DATOS ##"
   ]
  },
  {
   "cell_type": "markdown",
   "id": "e225359f-1caa-4f92-a0db-6870b80a34b7",
   "metadata": {},
   "source": [
    "Bases datos detalladas de los programas de educación continua, incluyendo información sobre los participantes, cursos tomados, duración de los programas, calificaciones, encuestas de satisfacción, entre otros"
   ]
  },
  {
   "cell_type": "markdown",
   "id": "25852fbb-2bff-4ff6-a04c-2e5281418bec",
   "metadata": {},
   "source": [
    "## PROCESAMIENTO ETL ##"
   ]
  },
  {
   "cell_type": "markdown",
   "id": "0a618eef-c94f-4151-b307-7e2b1357c735",
   "metadata": {
    "tags": []
   },
   "source": [
    "Las bases de datos que se trabajarán son las de “pre inscritos e inscritos”, las cuales se encuentran en formato *XLSX* separadas para cada curso ofertado, estas serán descargadas en formato csv para leerlas a través de pandas y realizar la unificación de las bases de datos. En este proceso se hará un procedimiento de transformación de los datos en el que se incluyen nuevas variables que dan cuenta del curso y si se ejecutó o no. Posteriormente se realiza un análisis exploratorio de los datos identificando el tipo de variable para variable e identificando datos faltantes y unificando criterios.\n",
    "\n",
    "Finalmente se realizará el proceso “merge” para unir las dos bases de datos y agregar una nueva variable que indique la inscripción o no de un participante. De igual forma,  se usará la función “merge” con una base de datos que contiene información del estado de ejecución de las actividades para etiquetar los cursos efectivamente ejecutados.  \n"
   ]
  },
  {
   "cell_type": "markdown",
   "id": "fbfb5d19-82a0-41ec-a0ad-9de665bf1df5",
   "metadata": {},
   "source": [
    "## EXPLORACIÓN DE DATOS ##"
   ]
  },
  {
   "cell_type": "markdown",
   "id": "ea40601f-78eb-499f-84d1-c6dcde898288",
   "metadata": {},
   "source": [
    "1\tLimpieza de datos\n",
    "\n",
    "2\tIdentificación de outliers\n",
    "\n",
    "3\tAnálisis de correlación\n",
    "\n",
    "4\tSegmentación y agrupación\n",
    "\n",
    "5\tExploración geoespacial\n"
   ]
  },
  {
   "cell_type": "markdown",
   "id": "20b6bf36-d276-4987-b9c6-28f754a03352",
   "metadata": {},
   "source": [
    "## TÉCNICAS DE MODELACIÓN PROPUESTAS  ##"
   ]
  },
  {
   "cell_type": "markdown",
   "id": "1b780d02-c6d0-4674-bf36-727bc27b15ea",
   "metadata": {},
   "source": [
    "No se tiene definida en este momento."
   ]
  },
  {
   "cell_type": "markdown",
   "id": "ce010663-ad18-457f-9916-6186f1be775f",
   "metadata": {},
   "source": [
    "## CONOCIMIENTOS REQUERIDOS PARA EL DESARROLLO DEL PROYECTO  ##"
   ]
  },
  {
   "cell_type": "markdown",
   "id": "e51eea98-ae0d-43a1-bdfc-fd56c4071b4e",
   "metadata": {
    "tags": []
   },
   "source": [
    "Python, SQL, modelos supervisados y/o no supervisados."
   ]
  },
  {
   "cell_type": "markdown",
   "id": "d8f410be-acc1-410f-84d8-1a916a121fdf",
   "metadata": {},
   "source": [
    "## RESULTADOS ESPERADOS  ##"
   ]
  },
  {
   "cell_type": "markdown",
   "id": "ad7f0596-24ea-4d9e-93f4-cc928f64784a",
   "metadata": {},
   "source": [
    "Este proyecto permitirá no solo aplicar técnicas de ciencias de datos hacia el campo administrativo, sino también contribuir a la mejora de la Educación Continua en la Facultad de Ciencias de la UNAL, en pro de disminuir la tasa porcentual de las actividades derogadas de ECP, evitando reprocesos contractuales, y generen y/o conserven el buen nombre de la institución hacia los usuarios tanto internos como externos."
   ]
  },
  {
   "cell_type": "markdown",
   "id": "2ebc0690-17bd-48a7-befb-74c8e7d26c22",
   "metadata": {},
   "source": [
    "## TIEMPO DE DESARROLLO ESPERADO  ##"
   ]
  },
  {
   "cell_type": "markdown",
   "id": "725857e7-091e-43c6-be32-98e31d2af5d3",
   "metadata": {
    "tags": []
   },
   "source": [
    "Séis (6) semanas "
   ]
  }
 ],
 "metadata": {
  "kernelspec": {
   "display_name": "Python 3 (ipykernel)",
   "language": "python",
   "name": "python3"
  },
  "language_info": {
   "codemirror_mode": {
    "name": "ipython",
    "version": 3
   },
   "file_extension": ".py",
   "mimetype": "text/x-python",
   "name": "python",
   "nbconvert_exporter": "python",
   "pygments_lexer": "ipython3",
   "version": "3.9.13"
  }
 },
 "nbformat": 4,
 "nbformat_minor": 5
}
